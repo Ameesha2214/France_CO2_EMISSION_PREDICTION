{
  "nbformat": 4,
  "nbformat_minor": 0,
  "metadata": {
    "colab": {
      "provenance": [],
      "authorship_tag": "ABX9TyPA3G8HHLhK1rcNoXgj1xt3",
      "include_colab_link": true
    },
    "kernelspec": {
      "name": "python3",
      "display_name": "Python 3"
    },
    "language_info": {
      "name": "python"
    }
  },
  "cells": [
    {
      "cell_type": "markdown",
      "metadata": {
        "id": "view-in-github",
        "colab_type": "text"
      },
      "source": [
        "<a href=\"https://colab.research.google.com/github/Ameesha2214/France_CO2_EMISSION_PREDICTION/blob/main/France_CO2.ipynb\" target=\"_parent\"><img src=\"https://colab.research.google.com/assets/colab-badge.svg\" alt=\"Open In Colab\"/></a>"
      ]
    },
    {
      "cell_type": "code",
      "execution_count": 1,
      "metadata": {
        "id": "UmWmIu3akeF0"
      },
      "outputs": [],
      "source": [
        "import pandas as pd\n"
      ]
    },
    {
      "cell_type": "code",
      "source": [
        "df=pd.read_csv(\"OECD.SDD.NAD.SEEA,DSD_AEA@DF_AEA,1.0+FRA.A..T_CO2E...CO2... (1).csv\")"
      ],
      "metadata": {
        "id": "Ctf7_RTAk9PZ"
      },
      "execution_count": 2,
      "outputs": []
    },
    {
      "cell_type": "code",
      "source": [
        "print(df.head())\n",
        "print(df.describe())\n",
        "print(df.info())\n",
        "print(df.columns)"
      ],
      "metadata": {
        "colab": {
          "base_uri": "https://localhost:8080/"
        },
        "id": "tdyMLga_mBBT",
        "outputId": "b30d85c7-51c0-4932-e3e3-5e4d9ecc36ee"
      },
      "execution_count": 4,
      "outputs": [
        {
          "output_type": "stream",
          "name": "stdout",
          "text": [
            "  STRUCTURE                           STRUCTURE_ID          STRUCTURE_NAME  \\\n",
            "0  DATAFLOW  OECD.SDD.NAD.SEEA:DSD_AEA@DF_AEA(1.0)  Air Emissions Accounts   \n",
            "1  DATAFLOW  OECD.SDD.NAD.SEEA:DSD_AEA@DF_AEA(1.0)  Air Emissions Accounts   \n",
            "2  DATAFLOW  OECD.SDD.NAD.SEEA:DSD_AEA@DF_AEA(1.0)  Air Emissions Accounts   \n",
            "3  DATAFLOW  OECD.SDD.NAD.SEEA:DSD_AEA@DF_AEA(1.0)  Air Emissions Accounts   \n",
            "4  DATAFLOW  OECD.SDD.NAD.SEEA:DSD_AEA@DF_AEA(1.0)  Air Emissions Accounts   \n",
            "\n",
            "  ACTION REF_AREA Reference area FREQ Frequency of observation    MEASURE  \\\n",
            "0      I      FRA         France    A                   Annual  EMISSIONS   \n",
            "1      I      FRA         France    A                   Annual  EMISSIONS   \n",
            "2      I      FRA         France    A                   Annual  EMISSIONS   \n",
            "3      I      FRA         France    A                   Annual  EMISSIONS   \n",
            "4      I      FRA         France    A                   Annual  EMISSIONS   \n",
            "\n",
            "     Measure  ... TIME_PERIOD Time period  OBS_VALUE Observation value  \\\n",
            "0  Emissions  ...        2008         NaN  221676.37               NaN   \n",
            "1  Emissions  ...        2009         NaN  228313.83               NaN   \n",
            "2  Emissions  ...        2010         NaN  232544.48               NaN   \n",
            "3  Emissions  ...        2011         NaN  208262.84               NaN   \n",
            "4  Emissions  ...        2012         NaN  208799.19               NaN   \n",
            "\n",
            "  OBS_STATUS Observation status UNIT_MULT Unit multiplier DECIMALS Decimals  \n",
            "0        NaN                NaN       NaN             NaN        0     Zero  \n",
            "1        NaN                NaN       NaN             NaN        0     Zero  \n",
            "2        NaN                NaN       NaN             NaN        0     Zero  \n",
            "3        NaN                NaN       NaN             NaN        0     Zero  \n",
            "4        NaN                NaN       NaN             NaN        0     Zero  \n",
            "\n",
            "[5 rows x 34 columns]\n",
            "       TIME_PERIOD  Time period     OBS_VALUE  Observation value  UNIT_MULT  \\\n",
            "count  1394.000000          0.0  1.394000e+03                0.0        0.0   \n",
            "mean   2014.994978          NaN  1.952120e+07                NaN        NaN   \n",
            "std       4.319522          NaN  6.085519e+07                NaN        NaN   \n",
            "min    2008.000000          NaN -3.128347e+06                NaN        NaN   \n",
            "25%    2011.000000          NaN  3.977096e+05                NaN        NaN   \n",
            "50%    2015.000000          NaN  1.210149e+06                NaN        NaN   \n",
            "75%    2019.000000          NaN  1.037415e+07                NaN        NaN   \n",
            "max    2022.000000          NaN  4.416459e+08                NaN        NaN   \n",
            "\n",
            "       Unit multiplier  DECIMALS  \n",
            "count              0.0    1394.0  \n",
            "mean               NaN       0.0  \n",
            "std                NaN       0.0  \n",
            "min                NaN       0.0  \n",
            "25%                NaN       0.0  \n",
            "50%                NaN       0.0  \n",
            "75%                NaN       0.0  \n",
            "max                NaN       0.0  \n",
            "<class 'pandas.core.frame.DataFrame'>\n",
            "RangeIndex: 1394 entries, 0 to 1393\n",
            "Data columns (total 34 columns):\n",
            " #   Column                    Non-Null Count  Dtype  \n",
            "---  ------                    --------------  -----  \n",
            " 0   STRUCTURE                 1394 non-null   object \n",
            " 1   STRUCTURE_ID              1394 non-null   object \n",
            " 2   STRUCTURE_NAME            1394 non-null   object \n",
            " 3   ACTION                    1394 non-null   object \n",
            " 4   REF_AREA                  1394 non-null   object \n",
            " 5   Reference area            1394 non-null   object \n",
            " 6   FREQ                      1394 non-null   object \n",
            " 7   Frequency of observation  1394 non-null   object \n",
            " 8   MEASURE                   1394 non-null   object \n",
            " 9   Measure                   1394 non-null   object \n",
            " 10  UNIT_MEASURE              1394 non-null   object \n",
            " 11  Unit of measure           1394 non-null   object \n",
            " 12  ADJUSTMENT                1394 non-null   object \n",
            " 13  Adjustment                1394 non-null   object \n",
            " 14  ACTIVITY                  1394 non-null   object \n",
            " 15  Economic activity         1394 non-null   object \n",
            " 16  POLLUTANT                 1394 non-null   object \n",
            " 17  Pollutants                1394 non-null   object \n",
            " 18  ACTIVITY_SCOPE            1394 non-null   object \n",
            " 19  Activity scope            1394 non-null   object \n",
            " 20  METHODOLOGY               1394 non-null   object \n",
            " 21  Methodology               1394 non-null   object \n",
            " 22  SOURCE                    1394 non-null   object \n",
            " 23  Source                    1394 non-null   object \n",
            " 24  TIME_PERIOD               1394 non-null   int64  \n",
            " 25  Time period               0 non-null      float64\n",
            " 26  OBS_VALUE                 1394 non-null   float64\n",
            " 27  Observation value         0 non-null      float64\n",
            " 28  OBS_STATUS                91 non-null     object \n",
            " 29  Observation status        91 non-null     object \n",
            " 30  UNIT_MULT                 0 non-null      float64\n",
            " 31  Unit multiplier           0 non-null      float64\n",
            " 32  DECIMALS                  1394 non-null   int64  \n",
            " 33  Decimals                  1394 non-null   object \n",
            "dtypes: float64(5), int64(2), object(27)\n",
            "memory usage: 370.4+ KB\n",
            "None\n",
            "Index(['STRUCTURE', 'STRUCTURE_ID', 'STRUCTURE_NAME', 'ACTION', 'REF_AREA',\n",
            "       'Reference area', 'FREQ', 'Frequency of observation', 'MEASURE',\n",
            "       'Measure', 'UNIT_MEASURE', 'Unit of measure', 'ADJUSTMENT',\n",
            "       'Adjustment', 'ACTIVITY', 'Economic activity', 'POLLUTANT',\n",
            "       'Pollutants', 'ACTIVITY_SCOPE', 'Activity scope', 'METHODOLOGY',\n",
            "       'Methodology', 'SOURCE', 'Source', 'TIME_PERIOD', 'Time period',\n",
            "       'OBS_VALUE', 'Observation value', 'OBS_STATUS', 'Observation status',\n",
            "       'UNIT_MULT', 'Unit multiplier', 'DECIMALS', 'Decimals'],\n",
            "      dtype='object')\n"
          ]
        }
      ]
    },
    {
      "cell_type": "code",
      "source": [
        "print(df.isnull().sum())"
      ],
      "metadata": {
        "colab": {
          "base_uri": "https://localhost:8080/"
        },
        "id": "67srCdIpme9_",
        "outputId": "282c83d8-e832-45c7-c098-196eb35d07b8"
      },
      "execution_count": 5,
      "outputs": [
        {
          "output_type": "stream",
          "name": "stdout",
          "text": [
            "STRUCTURE                      0\n",
            "STRUCTURE_ID                   0\n",
            "STRUCTURE_NAME                 0\n",
            "ACTION                         0\n",
            "REF_AREA                       0\n",
            "Reference area                 0\n",
            "FREQ                           0\n",
            "Frequency of observation       0\n",
            "MEASURE                        0\n",
            "Measure                        0\n",
            "UNIT_MEASURE                   0\n",
            "Unit of measure                0\n",
            "ADJUSTMENT                     0\n",
            "Adjustment                     0\n",
            "ACTIVITY                       0\n",
            "Economic activity              0\n",
            "POLLUTANT                      0\n",
            "Pollutants                     0\n",
            "ACTIVITY_SCOPE                 0\n",
            "Activity scope                 0\n",
            "METHODOLOGY                    0\n",
            "Methodology                    0\n",
            "SOURCE                         0\n",
            "Source                         0\n",
            "TIME_PERIOD                    0\n",
            "Time period                 1394\n",
            "OBS_VALUE                      0\n",
            "Observation value           1394\n",
            "OBS_STATUS                  1303\n",
            "Observation status          1303\n",
            "UNIT_MULT                   1394\n",
            "Unit multiplier             1394\n",
            "DECIMALS                       0\n",
            "Decimals                       0\n",
            "dtype: int64\n"
          ]
        }
      ]
    }
  ]
}